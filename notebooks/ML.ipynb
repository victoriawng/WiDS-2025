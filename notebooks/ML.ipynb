{
 "cells": [
  {
   "cell_type": "markdown",
   "id": "1ee11e3b",
   "metadata": {},
   "source": [
    "1. I need to do is find which model would be best for our circumstances (multi model output, binary classifier any others?)  \n",
    "\n",
    "2. just chuck the SDQ, APQ, and FCM into a model (kinda like a base model???) and run it\n",
    "while running figure out\n",
    "3. for FCM, which “square”s has most substantial info to help us determine ADHD diganosis  \n",
    "4. top SDQ for gender prediction   \n",
    "5. top APQ for gender prediction  \n",
    "6. chuck 3-5 into model\n",
    "\n",
    "notes:\n",
    "* may not need to do one hot encoding because catergorical data might not be helpful in this model\n"
   ]
  },
  {
   "cell_type": "code",
   "execution_count": 2,
   "id": "012c0b4c",
   "metadata": {},
   "outputs": [],
   "source": [
    "import pandas as pd"
   ]
  },
  {
   "cell_type": "code",
   "execution_count": null,
   "id": "cbba0db9",
   "metadata": {},
   "outputs": [],
   "source": []
  }
 ],
 "metadata": {
  "kernelspec": {
   "display_name": "base",
   "language": "python",
   "name": "python3"
  },
  "language_info": {
   "codemirror_mode": {
    "name": "ipython",
    "version": 3
   },
   "file_extension": ".py",
   "mimetype": "text/x-python",
   "name": "python",
   "nbconvert_exporter": "python",
   "pygments_lexer": "ipython3",
   "version": "3.12.4"
  }
 },
 "nbformat": 4,
 "nbformat_minor": 5
}
