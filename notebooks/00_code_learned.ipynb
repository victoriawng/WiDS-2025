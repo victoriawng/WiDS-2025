{
 "cells": [
  {
   "cell_type": "markdown",
   "id": "4c64751b",
   "metadata": {},
   "source": [
    "# Add anything in here that you think would be useful to know as we're learning together!"
   ]
  },
  {
   "cell_type": "markdown",
   "id": "a93bf105",
   "metadata": {},
   "source": [
    "### doesn't have to be related to this project\n"
   ]
  },
  {
   "cell_type": "markdown",
   "id": "4ee8bcee",
   "metadata": {},
   "source": [
    "---"
   ]
  },
  {
   "cell_type": "markdown",
   "id": "8072eced",
   "metadata": {},
   "source": [
    "# *"
   ]
  },
  {
   "cell_type": "code",
   "execution_count": 1,
   "id": "36f3983b",
   "metadata": {},
   "outputs": [],
   "source": [
    "# !pip install kaggle\n",
    "\n",
    "# import os\n",
    "# os.environ['KAGGLE_USERNAME'] = \n",
    "# os.environ['KAGGLE_KEY'] = \n",
    "\n",
    "# !kaggle competitions download -c widsdatathon2025\n",
    "\n",
    "# !unzip widsdatathon2025.zip"
   ]
  },
  {
   "cell_type": "markdown",
   "id": "3558629b",
   "metadata": {},
   "source": [
    "---"
   ]
  },
  {
   "cell_type": "markdown",
   "id": "95bb21d9",
   "metadata": {},
   "source": [
    "# *"
   ]
  },
  {
   "cell_type": "code",
   "execution_count": null,
   "id": "5320d679",
   "metadata": {},
   "outputs": [],
   "source": []
  }
 ],
 "metadata": {
  "kernelspec": {
   "display_name": "Python 3",
   "language": "python",
   "name": "python3"
  },
  "language_info": {
   "codemirror_mode": {
    "name": "ipython",
    "version": 3
   },
   "file_extension": ".py",
   "mimetype": "text/x-python",
   "name": "python",
   "nbconvert_exporter": "python",
   "pygments_lexer": "ipython3",
   "version": "3.12.10"
  }
 },
 "nbformat": 4,
 "nbformat_minor": 5
}
